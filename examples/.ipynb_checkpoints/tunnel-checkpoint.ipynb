{
 "cells": [
  {
   "cell_type": "markdown",
   "id": "d44b3126",
   "metadata": {},
   "source": [
    "# Quantum tunneling"
   ]
  },
  {
   "cell_type": "markdown",
   "id": "5ab1389d",
   "metadata": {},
   "source": [
    "A wave-packet with initial momentum $k_0 = 500$ has a kinetic energy equal to $E = 2.5 \\times 10^{5}$.\n",
    "Due to the energy distribution, it can still overcome a barrier having energy $V = 3 \\times 10^{5}$."
   ]
  },
  {
   "cell_type": "markdown",
   "id": "bc1a1afe",
   "metadata": {},
   "source": [
    "## Input parameters _(params.py)_"
   ]
  },
  {
   "cell_type": "markdown",
   "id": "99bb4640",
   "metadata": {},
   "source": [
    "```python\n",
    "#----------------------\n",
    "# simulation parameters\n",
    "\n",
    "t = 0.001  # simulation time\n",
    "\n",
    "#----------------------\n",
    "# gaussian parameters\n",
    "\n",
    "sigma = 0.02 # std\n",
    "x_0 = 0.3    # starting position \n",
    "k_0 = 500   # initial momentum\n",
    "\n",
    "# boundary conditions\n",
    "\n",
    "boundary = 'periodic'   # 'periodic'\n",
    "\n",
    "#-----------------------\n",
    "# potential parameters\n",
    "\n",
    "potential = 'barrier'   # 'flat', 'barrier', 'harmonic', 'delta'\n",
    "\n",
    "# potential barrier / well\n",
    "\n",
    "b = 0.02 # half width \n",
    "h = 1.3e5  # height: h < 0 = potential well\n",
    "\n",
    "# ----------------------\n",
    "# plotting parameters\n",
    "\n",
    "# file format\n",
    "file_format = 'gif'  # 'gif', 'mp4'\n",
    "\n",
    "# animation speed multiplier\n",
    "\n",
    "play_speed = 50 # video duration (seconds) = t * 2e5 / speed\n",
    "```"
   ]
  },
  {
   "cell_type": "markdown",
   "id": "d87867b4",
   "metadata": {},
   "source": [
    "## Animation"
   ]
  },
  {
   "cell_type": "markdown",
   "id": "d493e991",
   "metadata": {},
   "source": [
    "<img src=\"../gifs/tunnel.gif\" width=600 height=400 />"
   ]
  },
  {
   "cell_type": "code",
   "execution_count": null,
   "id": "f04dc194",
   "metadata": {},
   "outputs": [],
   "source": []
  }
 ],
 "metadata": {
  "kernelspec": {
   "display_name": "Python 3",
   "language": "python",
   "name": "python3"
  },
  "language_info": {
   "codemirror_mode": {
    "name": "ipython",
    "version": 3
   },
   "file_extension": ".py",
   "mimetype": "text/x-python",
   "name": "python",
   "nbconvert_exporter": "python",
   "pygments_lexer": "ipython3",
   "version": "3.8.8"
  }
 },
 "nbformat": 4,
 "nbformat_minor": 5
}
