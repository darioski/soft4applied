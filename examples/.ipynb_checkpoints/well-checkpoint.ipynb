{
 "cells": [
  {
   "cell_type": "markdown",
   "id": "491becf3",
   "metadata": {},
   "source": [
    "# Wave-packet in a potential well"
   ]
  },
  {
   "cell_type": "markdown",
   "id": "9af924af",
   "metadata": {},
   "source": [
    "## Input parameters _(params.py)_"
   ]
  },
  {
   "cell_type": "markdown",
   "id": "086efbea",
   "metadata": {},
   "source": [
    "```python\n",
    "#----------------------\n",
    "# simulation parameters\n",
    "\n",
    "t = 0.01  # simulation time\n",
    "\n",
    "#----------------------\n",
    "# gaussian parameters\n",
    "\n",
    "sigma = 0.02 # std\n",
    "x_0 = 0.5    # starting position \n",
    "k_0 = 0   # initial momentum\n",
    "\n",
    "# boundary conditions\n",
    "\n",
    "boundary = 'periodic'   # 'periodic'\n",
    "\n",
    "#-----------------------\n",
    "# potential parameters\n",
    "\n",
    "potential = 'barrier'   # 'flat', 'barrier', 'harmonic', 'delta'\n",
    "\n",
    "# potential barrier / well\n",
    "\n",
    "b = 0.15 # half width \n",
    "h = -1e7  # height: h < 0 = potential well\n",
    "\n",
    "# ----------------------\n",
    "# plotting parameters\n",
    "\n",
    "# file format\n",
    "file_format = 'gif'  # 'gif', 'mp4'\n",
    "\n",
    "# animation speed multiplier\n",
    "\n",
    "play_speed = 100 # video duration (seconds) = t * 2e5 / speed\n",
    "\n",
    "```"
   ]
  },
  {
   "cell_type": "markdown",
   "id": "95cdc63d",
   "metadata": {},
   "source": [
    "## Animation"
   ]
  },
  {
   "cell_type": "markdown",
   "id": "fb6f851f",
   "metadata": {},
   "source": [
    "<img src=\"../gifs/well.gif\" width=600 height=400 />"
   ]
  }
 ],
 "metadata": {
  "kernelspec": {
   "display_name": "Python 3",
   "language": "python",
   "name": "python3"
  },
  "language_info": {
   "codemirror_mode": {
    "name": "ipython",
    "version": 3
   },
   "file_extension": ".py",
   "mimetype": "text/x-python",
   "name": "python",
   "nbconvert_exporter": "python",
   "pygments_lexer": "ipython3",
   "version": "3.8.8"
  }
 },
 "nbformat": 4,
 "nbformat_minor": 5
}
