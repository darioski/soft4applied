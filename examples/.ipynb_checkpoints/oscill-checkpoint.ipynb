{
 "cells": [
  {
   "cell_type": "markdown",
   "id": "f272542a",
   "metadata": {},
   "source": [
    "# Quantum harmonic oscillator ground state"
   ]
  },
  {
   "cell_type": "markdown",
   "id": "ff82b8a1",
   "metadata": {},
   "source": [
    "In the harmonic oscillator the potential is in the form $V(x) = \\frac{1}{2}k x^2$. \n",
    "It can be proven that in the ground state the probability density of the oscillator is shaped like a gaussian, and the standard deviation is $\\sigma = \\frac{1}{\\sqrt 2 \\omega}$.\n",
    "Therefore, if we choose our **sigma** parameter to be equal to $\\frac{1}{\\sqrt{ 2 \\sqrt{2 a}}}$ we should obtain a state which is time independent, i.e. the ground eigenstate."
   ]
  },
  {
   "cell_type": "markdown",
   "id": "7c6ccb80",
   "metadata": {},
   "source": [
    "## Input parameters _(params.py)_"
   ]
  },
  {
   "cell_type": "markdown",
   "id": "a846f10a",
   "metadata": {},
   "source": [
    "```python\n",
    "#----------------------\n",
    "# simulation parameters\n",
    "\n",
    "t = 0.005  # simulation time\n",
    "\n",
    "#----------------------\n",
    "# gaussian parameters\n",
    "\n",
    "sigma = 0.0334370152488211 # std\n",
    "x_0 = 0.5   # starting position \n",
    "k_0 = 0   # initial momentum\n",
    "\n",
    "# boundary conditions\n",
    "\n",
    "boundary = 'periodic'   # 'periodic'\n",
    "\n",
    "#-----------------------\n",
    "# potential parameters\n",
    "\n",
    "potential = 'harmonic'   # 'flat', 'barrier', 'harmonic', 'delta'\n",
    "\n",
    "# harmonic potential \n",
    "\n",
    "a = 1e5   # aperture\n",
    "\n",
    "# ----------------------\n",
    "# plotting parameters\n",
    "\n",
    "# file format\n",
    "file_format = 'gif'  # 'gif', 'mp4'\n",
    "\n",
    "# animation speed multiplier\n",
    "\n",
    "play_speed = 100 # video duration (seconds) = t * 2e5 / speed\n",
    "```"
   ]
  },
  {
   "cell_type": "markdown",
   "id": "dd09779f",
   "metadata": {},
   "source": [
    "## Animation"
   ]
  },
  {
   "cell_type": "markdown",
   "id": "c01f356e",
   "metadata": {},
   "source": [
    "<img src=\"../gifs/oscill.gif\" width=600 height=400 />"
   ]
  },
  {
   "cell_type": "code",
   "execution_count": null,
   "id": "ff31643e",
   "metadata": {},
   "outputs": [],
   "source": []
  }
 ],
 "metadata": {
  "kernelspec": {
   "display_name": "Python 3",
   "language": "python",
   "name": "python3"
  },
  "language_info": {
   "codemirror_mode": {
    "name": "ipython",
    "version": 3
   },
   "file_extension": ".py",
   "mimetype": "text/x-python",
   "name": "python",
   "nbconvert_exporter": "python",
   "pygments_lexer": "ipython3",
   "version": "3.8.8"
  }
 },
 "nbformat": 4,
 "nbformat_minor": 5
}
