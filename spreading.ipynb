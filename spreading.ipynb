{
 "cells": [
  {
   "cell_type": "markdown",
   "id": "cb1dba94",
   "metadata": {},
   "source": [
    "# Spreading of a wave-packet"
   ]
  },
  {
   "cell_type": "markdown",
   "id": "a402377a",
   "metadata": {},
   "source": [
    "## Input parameters _(params.py)_\n"
   ]
  },
  {
   "cell_type": "markdown",
   "id": "95021b1e",
   "metadata": {},
   "source": [
    "```python\n",
    "#----------------------\n",
    "# simulation parameters\n",
    "\n",
    "t = 0.01  # simulation time\n",
    "\n",
    "#----------------------\n",
    "# gaussian parameters\n",
    "\n",
    "sigma = 0.02 # std\n",
    "x_0 = 0.5    # starting position \n",
    "k_0 = 1000   # initial momentum\n",
    "\n",
    "# boundary conditions\n",
    "\n",
    "boundary = 'periodic'   # 'periodic'\n",
    "\n",
    "#-----------------------\n",
    "# potential parameters\n",
    "\n",
    "potential = 'flat'   # 'flat', 'barrier', 'harmonic', 'delta'\n",
    "\n",
    "# ----------------------\n",
    "# plotting parameters\n",
    "\n",
    "# file format\n",
    "file_format = 'mp4'  # 'gif', 'mp4'\n",
    "\n",
    "# animation speed multiplier\n",
    "\n",
    "play_speed = 100 # video duration (seconds) = t * 2e5 / speed\n",
    "```"
   ]
  },
  {
   "cell_type": "markdown",
   "id": "782d7960",
   "metadata": {},
   "source": [
    "## Animation"
   ]
  },
  {
   "cell_type": "code",
   "execution_count": 9,
   "id": "d2232d5b",
   "metadata": {},
   "outputs": [
    {
     "data": {
      "text/html": [
       "<video width=\"800\" height=\"500\" controls autoplay loop>   <source type=\"video/mp4\" src=\"anim.mp4\">   </video>"
      ],
      "text/plain": [
       "<IPython.core.display.HTML object>"
      ]
     },
     "metadata": {},
     "output_type": "display_data"
    }
   ],
   "source": [
    "from IPython.display import display, HTML\n",
    "\n",
    "video = '<video width=\"800\" height=\"500\" controls autoplay loop> \\\n",
    "  <source type=\"video/mp4\" src=\"anim.mp4\"> \\\n",
    "  </video>'\n",
    "\n",
    "display(HTML(video))"
   ]
  },
  {
   "cell_type": "markdown",
   "id": "a969bff3",
   "metadata": {},
   "source": [
    "## Data analysis"
   ]
  },
  {
   "cell_type": "code",
   "execution_count": 10,
   "id": "3bfc518e",
   "metadata": {},
   "outputs": [
    {
     "name": "stdout",
     "output_type": "stream",
     "text": [
      "Start:\n",
      "   time   p_left  x_mean  x_rms       pk_left  k_mean  k_rms\n",
      "0   0.0  0.49026     0.5   0.02  1.213437e-32   500.0   25.0\n",
      "End:\n",
      "        time    p_left    x_mean     x_rms       pk_left  k_mean  k_rms\n",
      "50000  0.005  0.501532  0.498461  0.406225  9.958769e-28   500.0   25.0\n"
     ]
    }
   ],
   "source": [
    "import pandas as pd\n",
    "\n",
    "stats = pd.read_csv('statistics.csv')\n",
    "\n",
    "print('Start:')\n",
    "print(stats.iloc[[0]])\n",
    "print('End:')\n",
    "print(stats.iloc[[-1]])"
   ]
  }
 ],
 "metadata": {
  "kernelspec": {
   "display_name": "Python 3",
   "language": "python",
   "name": "python3"
  },
  "language_info": {
   "codemirror_mode": {
    "name": "ipython",
    "version": 3
   },
   "file_extension": ".py",
   "mimetype": "text/x-python",
   "name": "python",
   "nbconvert_exporter": "python",
   "pygments_lexer": "ipython3",
   "version": "3.8.8"
  }
 },
 "nbformat": 4,
 "nbformat_minor": 5
}
